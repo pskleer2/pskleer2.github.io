{
 "cells": [
  {
   "cell_type": "markdown",
   "metadata": {},
   "source": [
    "### Lecture 1: Solutions\n",
    "\n",
    "<i>Whenever you are asked to 'create' an array, do this as efficiently as possible in terms of code, by using the functions described in the theory. Don't hardcode the solution!</i>"
   ]
  },
  {
   "cell_type": "code",
   "execution_count": 1,
   "metadata": {},
   "outputs": [],
   "source": [
    "#Create a .py file in which you solve the exericses below. Don't forget to import the numpy module (e.g. as np)\n",
    "import numpy as np"
   ]
  },
  {
   "cell_type": "markdown",
   "metadata": {},
   "source": [
    "<b>1:</b>  Create an `3*2` integer array `x` of ones."
   ]
  },
  {
   "cell_type": "code",
   "execution_count": 2,
   "metadata": {},
   "outputs": [
    {
     "name": "stdout",
     "output_type": "stream",
     "text": [
      "[[1 1]\n",
      " [1 1]\n",
      " [1 1]]\n"
     ]
    }
   ],
   "source": [
    "x = np.ones((3,2),dtype='int')\n",
    "print(x)\n",
    "#If you don't specify the dtype, then the vector will have dtype 'float64' (You can check this with the command: x.dtype)"
   ]
  },
  {
   "cell_type": "markdown",
   "metadata": {},
   "source": [
    "<b>2:</b>  Create the numpy array ```x = [2, 4, 6, 8, ..., 100]```."
   ]
  },
  {
   "cell_type": "code",
   "execution_count": 3,
   "metadata": {},
   "outputs": [
    {
     "name": "stdout",
     "output_type": "stream",
     "text": [
      "[  2   4   6   8  10  12  14  16  18  20  22  24  26  28  30  32  34  36\n",
      "  38  40  42  44  46  48  50  52  54  56  58  60  62  64  66  68  70  72\n",
      "  74  76  78  80  82  84  86  88  90  92  94  96  98 100]\n"
     ]
    }
   ],
   "source": [
    "x = np.arange(2,102,2) \n",
    "print(x)\n",
    "#np.arange(2,102,2) gives the same result.\n",
    "#np.arange(2,100,2) does not give the same result as the upper bound of 100 is not included."
   ]
  },
  {
   "cell_type": "markdown",
   "metadata": {},
   "source": [
    "<b>3:</b>  Create a 1-D array of 50 evenly spaced elements between 3. and 10., inclusive."
   ]
  },
  {
   "cell_type": "code",
   "execution_count": 4,
   "metadata": {},
   "outputs": [
    {
     "name": "stdout",
     "output_type": "stream",
     "text": [
      "[ 3.          3.14285714  3.28571429  3.42857143  3.57142857  3.71428571\n",
      "  3.85714286  4.          4.14285714  4.28571429  4.42857143  4.57142857\n",
      "  4.71428571  4.85714286  5.          5.14285714  5.28571429  5.42857143\n",
      "  5.57142857  5.71428571  5.85714286  6.          6.14285714  6.28571429\n",
      "  6.42857143  6.57142857  6.71428571  6.85714286  7.          7.14285714\n",
      "  7.28571429  7.42857143  7.57142857  7.71428571  7.85714286  8.\n",
      "  8.14285714  8.28571429  8.42857143  8.57142857  8.71428571  8.85714286\n",
      "  9.          9.14285714  9.28571429  9.42857143  9.57142857  9.71428571\n",
      "  9.85714286 10.        ]\n"
     ]
    }
   ],
   "source": [
    "x = np.linspace(3,10,50)\n",
    "print(x)"
   ]
  },
  {
   "cell_type": "markdown",
   "metadata": {},
   "source": [
    "<b>4:</b>  Create the numpy array\n",
    "```\n",
    "a = [[ 1,  2,  3,  4],\n",
    "     [ 5,  6,  7,  8],\n",
    "     [ 9, 10, 11, 12],\n",
    "     [13, 14, 15, 16],\n",
    "     [17, 18, 19, 20],\n",
    "     [21, 22, 23, 24]]\n",
    "```"
   ]
  },
  {
   "cell_type": "code",
   "execution_count": 5,
   "metadata": {},
   "outputs": [
    {
     "name": "stdout",
     "output_type": "stream",
     "text": [
      "[[ 1  2  3  4]\n",
      " [ 5  6  7  8]\n",
      " [ 9 10 11 12]\n",
      " [13 14 15 16]\n",
      " [17 18 19 20]\n",
      " [21 22 23 24]]\n"
     ]
    }
   ],
   "source": [
    "A = np.arange(1,25).reshape(6,4) #First create the 1-D vector [1 2 ... 23 24] and then reshape it to a 6 x 4 matrix\n",
    "print(A)"
   ]
  },
  {
   "cell_type": "markdown",
   "metadata": {},
   "source": [
    "<b>5:</b>  From the numpy array created in the previous question, select all odd-numbered rows (indices 1, 3 and 5; note that the top row has index 0) and last two columns, i.e., the matrix\n",
    "```\n",
    "B = [[ 7,  8],\n",
    "     [15, 16],\n",
    "     [23, 24]].\n",
    "```\n",
    "Use slicing."
   ]
  },
  {
   "cell_type": "code",
   "execution_count": 6,
   "metadata": {},
   "outputs": [
    {
     "name": "stdout",
     "output_type": "stream",
     "text": [
      "[[ 7  8]\n",
      " [15 16]\n",
      " [23 24]]\n"
     ]
    }
   ],
   "source": [
    "B = A[1::2,-2:] \n",
    "print(B)\n",
    "#1::2 slicing: We select all rows starting from row 1 in steps of 2 (resulting in only the odd rows); \n",
    "#-2: slicing: We select only the last two rows. Recall that the index of the last row is -1, of the second to last row is -2, etc.."
   ]
  },
  {
   "cell_type": "markdown",
   "metadata": {},
   "source": [
    "<b>6:</b>  Create the numpy array\n",
    "```\n",
    "[1, 5, 9, 2, 6, 10, 3, 7, 11, 4, 8, 12]\n",
    "```\n",
    "from the first three rows of `A` (see Exercise 4)."
   ]
  },
  {
   "cell_type": "code",
   "execution_count": 12,
   "metadata": {},
   "outputs": [
    {
     "name": "stdout",
     "output_type": "stream",
     "text": [
      "[ 1  5  9  2  6 10  3  7 11  4  8 12]\n"
     ]
    }
   ],
   "source": [
    "C = A[:3].T.flatten() \n",
    "print(C)\n",
    "#We first select the first three rows of A with A[:3]. \n",
    "#Because of the 'largest index changes fastest' principle, flattening A[:3] would result in [ 1 2 3 ... 10 11 12].\n",
    "#Therefore we first tranpose A[:3] to get the desired result."
   ]
  },
  {
   "cell_type": "markdown",
   "metadata": {},
   "source": [
    "<b>7:</b>  Create the numpy arrays\n",
    "```\n",
    "X = [[1, 2, 3],\n",
    "     [4, 5, 6]]\n",
    "Y = [[7, 8, 9],\n",
    "     [10, 11, 12]]\n",
    "```\n",
    "and use them to create the arrays\n",
    "```\n",
    "W = [[ 1,  2,  3,  7,  8,  9],\n",
    "     [ 4,  5,  6, 10, 11, 12]]\n",
    "```\n",
    "and\n",
    "```\n",
    "Z = [[ 1,  2,  3],\n",
    "     [ 4,  5,  6],\n",
    "     [ 7,  8,  9],\n",
    "     [10, 11, 12]].\n",
    "```"
   ]
  },
  {
   "cell_type": "code",
   "execution_count": 35,
   "metadata": {},
   "outputs": [
    {
     "name": "stdout",
     "output_type": "stream",
     "text": [
      "W = \n",
      " [[ 1  2  3  7  8  9]\n",
      " [ 4  5  6 10 11 12]]\n",
      "Z = \n",
      " [[ 1  2  3]\n",
      " [ 4  5  6]\n",
      " [ 7  8  9]\n",
      " [10 11 12]]\n"
     ]
    }
   ],
   "source": [
    "X = np.arange(1,7).reshape(2,3)\n",
    "Y = np.arange(7,13).reshape(2,3)\n",
    "\n",
    "W = np.hstack((X,Y))\n",
    "Z = np.vstack((X,Y))\n",
    "print('W = \\n', W)\n",
    "print('Z = \\n', Z)"
   ]
  },
  {
   "cell_type": "markdown",
   "metadata": {},
   "source": [
    "<b>8:</b> Create a new array by appending only the second row of `Y` at the bottom of `X` (with `X` and `Y` as in Exercise 7)."
   ]
  },
  {
   "cell_type": "code",
   "execution_count": 36,
   "metadata": {},
   "outputs": [
    {
     "name": "stdout",
     "output_type": "stream",
     "text": [
      "[[ 1  2  3]\n",
      " [ 4  5  6]\n",
      " [10 11 12]]\n"
     ]
    }
   ],
   "source": [
    "Z = np.vstack((X,Y[1,:]))\n",
    "print(Z)"
   ]
  },
  {
   "cell_type": "markdown",
   "metadata": {},
   "source": [
    "<b>9:</b> Let x be the array ```[0, 1, 2]```. Convert it to the array `X` given by\n",
    "```\n",
    "[[0, 1, 2, 0, 1, 2]\n",
    " [0, 1, 2, 0, 1, 2]].\n",
    "```"
   ]
  },
  {
   "cell_type": "code",
   "execution_count": 37,
   "metadata": {},
   "outputs": [
    {
     "name": "stdout",
     "output_type": "stream",
     "text": [
      "[[0 1 2 0 1 2]\n",
      " [0 1 2 0 1 2]]\n"
     ]
    }
   ],
   "source": [
    "x = np.arange(0,3)\n",
    "X = np.tile(x,(2,2))\n",
    "print(X)"
   ]
  },
  {
   "cell_type": "markdown",
   "metadata": {},
   "source": [
    "<b>10:</b> Let ```x = [0, 1, 2]```. Use it to create ```y = [0, 0, 1, 1, 2, 2]```."
   ]
  },
  {
   "cell_type": "code",
   "execution_count": 39,
   "metadata": {},
   "outputs": [
    {
     "name": "stdout",
     "output_type": "stream",
     "text": [
      "[0 0 1 1 2 2]\n"
     ]
    }
   ],
   "source": [
    "y = np.repeat(x,2)\n",
    "print(y)"
   ]
  },
  {
   "cell_type": "markdown",
   "metadata": {},
   "source": [
    "<b>11:</b> Let X be array \n",
    "```\n",
    "[[1, 2, 3], \n",
    " [4, 5, 6]].\n",
    "``` \n",
    "Convert it to `[1 4 2 5 3 6]`."
   ]
  },
  {
   "cell_type": "code",
   "execution_count": 40,
   "metadata": {},
   "outputs": [
    {
     "name": "stdout",
     "output_type": "stream",
     "text": [
      "[1 4 2 5 3 6]\n"
     ]
    }
   ],
   "source": [
    "X = np.arange(1,7).reshape(2,3)\n",
    "Y = X.T.flatten()\n",
    "print(Y)\n",
    "#This exercise is similar to Exercise 6"
   ]
  },
  {
   "cell_type": "markdown",
   "metadata": {},
   "source": [
    "<b>12:</b> Write a function that for input numbers `a` and `b`, and non-negative input vector `x`, returns the vector `y` with $y[i] = a\\cdot x[i] + b$ if $0 < x[i] < 10$ and $y[i] = 0$ otherwise."
   ]
  },
  {
   "cell_type": "code",
   "execution_count": 46,
   "metadata": {},
   "outputs": [],
   "source": [
    "def y(a,b,x):\n",
    "    return np.where((0 < x) & (x < 10), a*x +b, 0)\n",
    "\n",
    "#We use np.where() to first select all x[i] for which 0 < x[i] < 10. \n",
    "#We then set those indices equal to a*x + b and all the others equal to 0"
   ]
  },
  {
   "cell_type": "markdown",
   "metadata": {},
   "source": [
    "<b>13:</b> Write a function that for given $n$ and $m$ returns an $(m+n) \\times (m+n)$ matrix that contains an $m \\times m$ block of ones on the top left, and an $n \\times n$ block of ones on the bottom right (and zeros elsewhere). For $m = 2$ and $n = 3$, this results in the matrix\n",
    "```\n",
    "       [[1,  1,  0,  0,  0],\n",
    "        [1,  1,  0,  0,  0],\n",
    "        [0,  0,  1,  1,  1],\n",
    "        [0,  0,  1,  1,  1],\n",
    "        [0,  0,  1,  1,  1]].\n",
    "```"
   ]
  },
  {
   "cell_type": "code",
   "execution_count": 54,
   "metadata": {},
   "outputs": [
    {
     "name": "stdout",
     "output_type": "stream",
     "text": [
      "[[1 1 0 0 0]\n",
      " [1 1 0 0 0]\n",
      " [0 0 1 1 1]\n",
      " [0 0 1 1 1]\n",
      " [0 0 1 1 1]]\n"
     ]
    }
   ],
   "source": [
    "def blocks(m,n):\n",
    "    X1 = np.ones((m,m),dtype='int')\n",
    "    X2 = np.ones((n,n),dtype='int')\n",
    "    Y1 = np.zeros((m,n),dtype='int')\n",
    "    Y2 = np.zeros((n,m),dtype='int')\n",
    "    return np.vstack((np.hstack((X1,Y1)),np.hstack((Y2,X2))))\n",
    "\n",
    "#Testing\n",
    "print(blocks(2,3))"
   ]
  },
  {
   "cell_type": "markdown",
   "metadata": {},
   "source": [
    "### Data processing\n",
    "\n",
    "<b>14:</b> Import the data from the file `Exercises1_data.dat` (download it from https://pskleer2.github.io and store it in the same folder with the .py file containing your solutions) into an array called `x`."
   ]
  },
  {
   "cell_type": "code",
   "execution_count": 57,
   "metadata": {},
   "outputs": [
    {
     "name": "stdout",
     "output_type": "stream",
     "text": [
      "[[ 6.19362116e-01  2.53859624e-04 -5.77868842e-01 -5.46021320e-01\n",
      "   1.01226554e+00 -7.94321795e-01 -1.34344431e+00 -5.20388262e-01\n",
      "   2.06714383e+00  6.04037564e-01 -1.40515154e+00 -1.02149507e-01\n",
      "  -6.84819553e-01  1.62899971e+00 -6.13753541e-01  1.28077713e+00\n",
      "   6.39427976e-01 -1.13663577e+00  7.17286301e-01  1.31447085e+00]\n",
      " [ 7.90362766e-01 -1.49996118e+00 -8.90261233e-01  1.07570141e+00\n",
      "   8.57925392e-01 -1.64150194e+00  1.46856162e+00  1.99645587e-02\n",
      "  -1.33022418e-01 -1.40395836e+00  2.81845450e-01  2.23309368e-01\n",
      "   3.27595814e-02  3.99622502e-01  1.10973655e+00  5.64855247e-01\n",
      "  -4.85586027e-01  1.49128730e+00  7.97397948e-03 -3.33075765e-01]\n",
      " [ 8.15666933e-01  1.13718501e+00 -3.35037912e-01  7.48426462e-01\n",
      "   2.27989069e-01  3.72473658e-01 -1.15054420e+00 -1.17743508e+00\n",
      "   1.42215444e+00  1.00154270e+00  8.21727326e-01  4.29182458e-01\n",
      "   1.38809493e-01 -7.97703141e-01 -8.66938547e-01 -3.66876897e-01\n",
      "   1.41335592e+00  8.23943938e-01  2.80963059e-01  6.47260046e-01]\n",
      " [ 8.32778944e-01 -1.07403835e+00  1.38711858e+00  6.14289097e-01\n",
      "   3.22849783e-01 -6.89630499e-01 -4.12135941e-01  1.98202220e-01\n",
      "   1.23414891e+00  1.80195367e+00  3.21301911e-01 -4.25153121e-01\n",
      "  -1.35052018e+00  6.80841492e-01 -2.53931639e+00 -1.57831138e+00\n",
      "   1.12259146e+00  1.01105435e+00 -5.56743257e-01  2.25536157e+00]\n",
      " [-1.20985180e+00  1.37226017e+00 -2.74288626e+00 -6.01749362e-01\n",
      "  -2.48643388e+00  1.01608306e+00 -1.61378760e+00 -1.63060588e+00\n",
      "   2.04481307e+00 -3.00230423e-01  9.38443988e-01  1.76080231e-01\n",
      "  -4.29637145e-01  3.86341355e-01 -1.02195832e+00 -2.97371880e+00\n",
      "  -2.17821009e-01 -4.51688198e-01 -5.61248925e-02  5.59455717e-01]]\n"
     ]
    }
   ],
   "source": [
    "x = np.loadtxt('Exercises1_data.dat')\n",
    "print(x[0:5])"
   ]
  },
  {
   "cell_type": "markdown",
   "metadata": {},
   "source": [
    "<b>15:</b> Find all column indices of `x` whose column sum is positive."
   ]
  },
  {
   "cell_type": "code",
   "execution_count": 59,
   "metadata": {},
   "outputs": [
    {
     "name": "stdout",
     "output_type": "stream",
     "text": [
      "[ 3  5  9 10 12 13 16 19]\n"
     ]
    }
   ],
   "source": [
    "y = np.where(np.sum(x,axis=0) > 0)\n",
    "print(y[0]) #np.where() returns two arguments"
   ]
  },
  {
   "cell_type": "markdown",
   "metadata": {},
   "source": [
    "<b>16:</b> For each of the columns of `x` with positive column sum, return the maximum entry."
   ]
  },
  {
   "cell_type": "code",
   "execution_count": 62,
   "metadata": {},
   "outputs": [
    {
     "name": "stdout",
     "output_type": "stream",
     "text": [
      "[2.11539965 2.9298793  2.83664452 2.21286061 2.9576122  2.28352649\n",
      " 2.18420931 2.25536157]\n"
     ]
    }
   ],
   "source": [
    "z = np.max(x[:,y[0]],axis=0)\n",
    "print(z)"
   ]
  },
  {
   "cell_type": "markdown",
   "metadata": {},
   "source": [
    "### Writing some mathematical functions\n",
    "\n",
    "<b>17:</b> Write a function that normalizes a 2D input array (matrix) such that all entries in a column are between 0 and 1 (smallest entry mapped to 0, largest value mapped to 1). Test your function on $A$ as given below. "
   ]
  },
  {
   "cell_type": "code",
   "execution_count": 7,
   "metadata": {},
   "outputs": [],
   "source": [
    "A = np.array([[ 1,  2,  3,  0],\n",
    "       [ 5,  6,  -7,  0],\n",
    "       [ -9, 10, 11, 0],\n",
    "       [13, -13, 15, 0],\n",
    "       [17, 18, 19, 0],\n",
    "       [-21, -22, -23, 0]])\n",
    "\n",
    "B =  np.array([[ 1,  2,  3,  0],\n",
    "       [ 5,  6,  -7,  0],\n",
    "       [ -9, 10, 11, 2],\n",
    "       [13, -13, 15, 0],\n",
    "       [17, 18, 19, 4],\n",
    "       [-21, -22, -23, 0]])"
   ]
  },
  {
   "cell_type": "code",
   "execution_count": 11,
   "metadata": {},
   "outputs": [],
   "source": [
    "def normalize(A):\n",
    "    col_min = np.min(A,axis=0)\n",
    "    col_max = np.max(A,axis=0)\n",
    "    if (col_max - col_min == 0).any(): \n",
    "        return print('The matrix contains a column whose entries are all the same')\n",
    "    else:\n",
    "        return (A - col_min)/(col_max - col_min)\n",
    "\n",
    "#(Original solution; the if-statement of this function is rather cumbersome...)\n",
    "def normalize_old(A):\n",
    "    col_min = np.min(A,axis=0)\n",
    "    col_max = np.max(A,axis=0)\n",
    "    if len(np.nonzero(col_max - col_min)[0]) != np.shape(A)[1]: #Other possibilities here as well.\n",
    "        return print('The matrix contains a column whose entries are all the same')\n",
    "    else:\n",
    "        return (A - col_min)/(col_max - col_min)"
   ]
  },
  {
   "cell_type": "code",
   "execution_count": 12,
   "metadata": {},
   "outputs": [
    {
     "name": "stdout",
     "output_type": "stream",
     "text": [
      "The matrix contains a column whose entries are all the same\n",
      "Normalized matrix A = \n",
      " None\n",
      "Normalized matrix B = \n",
      " [[0.57894737 0.6        0.61904762 0.        ]\n",
      " [0.68421053 0.7        0.38095238 0.        ]\n",
      " [0.31578947 0.8        0.80952381 0.5       ]\n",
      " [0.89473684 0.225      0.9047619  0.        ]\n",
      " [1.         1.         1.         1.        ]\n",
      " [0.         0.         0.         0.        ]]\n"
     ]
    }
   ],
   "source": [
    "#Testing\n",
    "print('Normalized matrix A = \\n',normalize(A))\n",
    "print('Normalized matrix B = \\n',normalize(B))"
   ]
  },
  {
   "cell_type": "markdown",
   "metadata": {},
   "source": [
    "<b>18:</b> Write a function that normalizes a 2D input array (matrix) such that the entries in each row have mean 0 and standard deviation 1. Test your function on the array A above. Also verify that the rows have mean 0 (using `np.mean()`) and standard deviation 1 (using `np.std()`) "
   ]
  },
  {
   "cell_type": "code",
   "execution_count": 68,
   "metadata": {},
   "outputs": [
    {
     "name": "stdout",
     "output_type": "stream",
     "text": [
      "[[-0.4472136   0.4472136   1.34164079 -1.34164079]\n",
      " [ 0.77702869  0.97128586 -1.55405738 -0.19425717]\n",
      " [-1.47153441  0.85839508  0.98102294 -0.3678836 ]\n",
      " [ 0.82181649 -1.48815418  0.99950654 -0.33316885]\n",
      " [ 0.4472136   0.57498891  0.70276422 -1.72496673]\n",
      " [-0.47108153 -0.57576631 -0.6804511   1.72729894]]\n",
      "[ 0.00000000e+00 -6.93889390e-18  0.00000000e+00  2.77555756e-17\n",
      "  0.00000000e+00  0.00000000e+00]\n",
      "[1. 1. 1. 1. 1. 1.]\n"
     ]
    }
   ],
   "source": [
    "#Function\n",
    "def normalize_mean_std(A):\n",
    "    row_mean = np.mean(A,axis=1)\n",
    "    row_std = np.std(A,axis=1)\n",
    "    return (A - row_mean[:,None])/row_std[:,None]\n",
    "\n",
    "#Testing\n",
    "N = normalize_mean_std(A)\n",
    "print(N)\n",
    "\n",
    "#Checking mean condition\n",
    "print(np.mean(N,axis=1))\n",
    "\n",
    "#Checking std condition\n",
    "print(np.std(N,axis=1))"
   ]
  },
  {
   "cell_type": "markdown",
   "metadata": {},
   "source": [
    "<b>19:</b> Write a function that extracts the anti-diagonal of the matrix\n",
    "```\n",
    "A = [[ 1,  2,  3],\n",
    "     [ 5,  6,  -7],\n",
    "     [ -9, 10, 11]]\n",
    "```\n",
    "this would be `[-9,6,3]`. <i>Hint: Use `np.rot90` to rotate a matrix $90$ degrees. Have a look at the <a href=\"https://numpy.org/doc/stable/reference/generated/numpy.rot90.html\">documentation</a> for details of how this function works.</i>"
   ]
  },
  {
   "cell_type": "code",
   "execution_count": 69,
   "metadata": {},
   "outputs": [],
   "source": [
    "A = np.array([\n",
    "   [ 1,  2,  3],\n",
    "   [ 5,  6,  -7],\n",
    "   [ -9, 10, 11]])"
   ]
  },
  {
   "cell_type": "code",
   "execution_count": 74,
   "metadata": {},
   "outputs": [
    {
     "name": "stdout",
     "output_type": "stream",
     "text": [
      "[-9  6  3]\n"
     ]
    }
   ],
   "source": [
    "d = np.diag(np.rot90(A,k=3,axes=(0,1))) #We first rotate the matrix 3*90 = 270 degrees and then take the diagonal.\n",
    "print(d)"
   ]
  }
 ],
 "metadata": {
  "kernelspec": {
   "display_name": "Python 3",
   "language": "python",
   "name": "python3"
  },
  "language_info": {
   "codemirror_mode": {
    "name": "ipython",
    "version": 3
   },
   "file_extension": ".py",
   "mimetype": "text/x-python",
   "name": "python",
   "nbconvert_exporter": "python",
   "pygments_lexer": "ipython3",
   "version": "3.8.8"
  }
 },
 "nbformat": 4,
 "nbformat_minor": 4
}
